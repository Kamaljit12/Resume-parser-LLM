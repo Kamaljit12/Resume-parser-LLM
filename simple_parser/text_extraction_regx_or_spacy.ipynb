{
 "cells": [
  {
   "cell_type": "markdown",
   "id": "71f72e4e",
   "metadata": {},
   "source": [
    "### Text extraction\\"
   ]
  },
  {
   "cell_type": "code",
   "execution_count": 2,
   "id": "f8579977",
   "metadata": {},
   "outputs": [],
   "source": [
    "import pdfplumber"
   ]
  },
  {
   "cell_type": "code",
   "execution_count": 3,
   "id": "c1c070a8",
   "metadata": {},
   "outputs": [],
   "source": [
    "file_path = r\"C:\\Users\\kamal\\Desktop\\Resume_Parser\\Resume-parser-LLM\\documents\\bhargavDasRsm.pdf\"\n",
    "\n",
    "# text = \"\"\n",
    "# with pdfplumber.open(file_path) as pdf:\n",
    "\n",
    "#     for page in pdf.pages:\n",
    "#         text += page.extract_text()+\"\\n\"\n",
    "#         # print(page.extract_text())"
   ]
  },
  {
   "cell_type": "code",
   "execution_count": 4,
   "id": "c46a6e8e",
   "metadata": {},
   "outputs": [],
   "source": [
    "# extract text from pdf\n",
    "\n",
    "def text_extractore(file_path):\n",
    "    text = \"\"\n",
    "    with pdfplumber.open(file_path) as pdf:\n",
    "        for page in pdf.pages:\n",
    "            text += page.extract_text() + \"\\n\"\n",
    "\n",
    "    return text"
   ]
  },
  {
   "cell_type": "code",
   "execution_count": 5,
   "id": "51befada",
   "metadata": {},
   "outputs": [
    {
     "name": "stdout",
     "output_type": "stream",
     "text": [
      "Bhargav Das\n",
      "+91 9871079256 | erbhargavdas@gmail.com | linkedin.com/in/bhrgvbhrgv | github.com/bhrgvbhrgv\n",
      "Education\n",
      "Baderia Global Institute of Engineering & Management Jabalpur\n",
      "Bachelor of Technology in Computer Science July 2022 - July 2026\n",
      "Aditya Convent Senior Secondary School Jabalpur\n",
      "Class XII July 2021 - July 2022\n",
      "Experience\n",
      "Freelanced — Full-Stack Web Developer Aug 2024 - Sept 2024\n",
      "Creative Interior India\n",
      "• Tech Stack: React.js, Next.js, CSS, Firebase\n",
      "• Achieved 90+ Google Lighthouse scores in performance, accessibility, and SEO through optimized architecture and\n",
      "clean code.\n",
      "• Attracted 1,000+ unique visitors within the first 3 months of launch through SEO and social sharing.\n",
      "• Integrated Firebase for scalable backend services including real-time database and secure hosting, ensuring 99.9%\n",
      "uptime.\n",
      "• Live Link: https://creativeconstruction.in/\n",
      "Internship: Front-End Web Developer Mar 2023 - May 2023\n",
      "DAO Info-Tech\n",
      "• Contributed to the development and launch of 6+ business websites, increasing client visibility and engagement by\n",
      "up to 40%.\n",
      "• Gained hands-on experience with HTML, CSS, JavaScript, and modern frameworks (e.g., React.js), reducing\n",
      "development time by 25% through reusable components.\n",
      "• Assisted in debugging and performance optimization, leading to 30% faster page load speeds and improved user\n",
      "retention.\n",
      "• Ensured mobile responsiveness across 20+ device breakpoints, improving cross-platform accessibility scores by 15%.\n",
      "Projects\n",
      "StreamTweet | React, Axios, Express, Mongoose, Multer, JWT and Bycrpt May 2025 – May 2025\n",
      "• Developed a full-stack web application that integrates core functionalities of YouTube and Twitter using React.js,\n",
      "Node.js, Express, and MongoDB.\n",
      "• Designed and implemented video upload, streaming, commenting, and like features to simulate YouTube’s user\n",
      "experience.\n",
      "• Built Twitter-style post creation, feed rendering, and user interaction modules including retweets, likes, share and\n",
      "replies.\n",
      "• Managed user authentication, session handling, and role-based access control with JWT and bcrypt for secure login\n",
      "and operations.\n",
      "LiveConnect | React, Axios, Socket.io, Express, Mongoose June 2025 – June 2025\n",
      "• Built a real-time chat application using the MERN stack and Socket.io for bidirectional communication.\n",
      "• Designedandimplementedover10RESTfulAPIroutesformessagehandling, usermanagement, andchatrooms.\n",
      "• Developed the frontend using React.js and integrated multiple third-party libraries including Axios and React\n",
      "Router.\n",
      "• Used MongoDB to store user profiles and chat logs with efficient schema design and querying.\n",
      "Technical Skills\n",
      "Languages: JavaScript, HTML/CSS, C++, SQL, Python\n",
      "Frameworks: React.js, Node.js, Express.js, Tailwind CSS\n",
      "Libraries: MongoDB, THREE.js\n",
      "Developer Tools: Git, RESTful APIs, User Testing Tools\n",
      "\n"
     ]
    }
   ],
   "source": [
    "chunk = text_extractore(file_path=file_path)\n",
    "print(chunk)"
   ]
  },
  {
   "cell_type": "markdown",
   "id": "020d1fae",
   "metadata": {},
   "source": [
    "### Extract basic fields using Regex"
   ]
  },
  {
   "cell_type": "code",
   "execution_count": 6,
   "id": "412086fe",
   "metadata": {},
   "outputs": [],
   "source": [
    "import re\n",
    "\n",
    "\n",
    "# find email\n",
    "def extract_email(text: str):\n",
    "    pattern = re.search(r\"[a-zA-Z0-9._%+-]+@[a-zA-Z0-9.-]+\\.[a-z]{2,}\", text)\n",
    "\n",
    "    return pattern.group(0) if pattern else None\n",
    "\n",
    "# find mobile number\n",
    "def extract_mobile(text: str):\n",
    "    pattern = re.search(r\"\\+?\\d[\\d\\s\\-()]{8,}\\d\", text)\n",
    "\n",
    "    return pattern.group(0) if pattern else None"
   ]
  },
  {
   "cell_type": "markdown",
   "id": "c3464f68",
   "metadata": {},
   "source": [
    "#### Use NLP (spaCy) for name and skills"
   ]
  },
  {
   "cell_type": "code",
   "execution_count": 7,
   "id": "0c87af56",
   "metadata": {},
   "outputs": [],
   "source": [
    "import spacy\n",
    "\n",
    "nlp = spacy.load(\"en_core_web_sm\")"
   ]
  },
  {
   "cell_type": "code",
   "execution_count": 8,
   "id": "8482f716",
   "metadata": {},
   "outputs": [
    {
     "name": "stdout",
     "output_type": "stream",
     "text": [
      "Bhargav Das\n",
      "+91\n"
     ]
    }
   ],
   "source": [
    "def extract_name(text: str):\n",
    "    doc = nlp(text)\n",
    "\n",
    "    for ent in doc.ents:\n",
    "        if ent.label_ == \"PERSON\":\n",
    "            return ent.text\n",
    "    return None\n",
    "\n",
    "name = extract_name(text=chunk)\n",
    "print(name)"
   ]
  },
  {
   "cell_type": "code",
   "execution_count": 9,
   "id": "bb7bcf00",
   "metadata": {},
   "outputs": [
    {
     "name": "stdout",
     "output_type": "stream",
     "text": [
      "Bhargav Das\n"
     ]
    }
   ],
   "source": [
    "names = re.findall(r'\\b([A-Z][a-z]+(?:\\s[A-Z][a-z]+)*)\\b', chunk)\n",
    "print(names[0])"
   ]
  },
  {
   "cell_type": "code",
   "execution_count": 10,
   "id": "35cd2e9c",
   "metadata": {},
   "outputs": [],
   "source": [
    "docs = nlp(chunk)"
   ]
  },
  {
   "cell_type": "code",
   "execution_count": 11,
   "id": "b3f22001",
   "metadata": {},
   "outputs": [],
   "source": [
    "name_ls = []\n",
    "for ent in docs.ents:\n",
    "    if ent.label_ == \"PERSON\":\n",
    "        name_ls.append(ent)"
   ]
  },
  {
   "cell_type": "code",
   "execution_count": 12,
   "id": "da81125a",
   "metadata": {},
   "outputs": [
    {
     "name": "stdout",
     "output_type": "stream",
     "text": [
      "Bhargav Das\n",
      "+91\n",
      "DAO Info-Tech\n",
      "React.js\n",
      "• Assisted\n",
      "Multer\n",
      "Twitter\n",
      "• Developed\n"
     ]
    }
   ],
   "source": [
    "for name in name_ls:\n",
    "    print(name)"
   ]
  },
  {
   "cell_type": "code",
   "execution_count": 13,
   "id": "d199b549",
   "metadata": {},
   "outputs": [],
   "source": [
    "chunk1 = text_extractore(file_path=r\"..\\documents\\KAMAL_Enterpr_ resume.pdf\")"
   ]
  },
  {
   "cell_type": "code",
   "execution_count": 14,
   "id": "97e59717",
   "metadata": {},
   "outputs": [
    {
     "data": {
      "text/plain": [
       "'Ara Nawada Chauk'"
      ]
     },
     "execution_count": 14,
     "metadata": {},
     "output_type": "execute_result"
    }
   ],
   "source": [
    "extract_name(text=chunk1)"
   ]
  },
  {
   "cell_type": "code",
   "execution_count": 16,
   "id": "61e21a89",
   "metadata": {},
   "outputs": [
    {
     "name": "stdout",
     "output_type": "stream",
     "text": [
      "['Email', 'Mob', 'Location', 'Ara Nawada Chauk', 'Bhojpur', 'Bih', 'Pin', 'Objective', 'To Work', 'Activity', 'Higher Education', 'All', 'Physics', 'Hons', 'Learning', 'Skills', 'Experience', 'Excel\\nFunctio', 'Total', 'Years', 'Experience', 'Hopscotch Pvt Ltd', 'Jyoti Enterprise', 'And', 'Visualization Tools', 'Experience', 'Excel', 'Power Bi', 'Excel', 'Advance Excel', 'Advance', 'Language', 'Hindi', 'English', 'Pivot Table', 'This', 'Google', 'Da', 'Analysis', 'Hr Analysis', 'Ipl', 'Titanic', 'Kaggle', 'Bi', 'Declaration', 'Signature', 'Kamal Jit Singh']\n"
     ]
    }
   ],
   "source": [
    "names = re.findall(r'\\b([A-Z][a-z]+(?:\\s[A-Z][a-z]+)*)\\b', chunk1)\n",
    "print(names)"
   ]
  }
 ],
 "metadata": {
  "kernelspec": {
   "display_name": ".venv",
   "language": "python",
   "name": "python3"
  },
  "language_info": {
   "codemirror_mode": {
    "name": "ipython",
    "version": 3
   },
   "file_extension": ".py",
   "mimetype": "text/x-python",
   "name": "python",
   "nbconvert_exporter": "python",
   "pygments_lexer": "ipython3",
   "version": "3.13.5"
  }
 },
 "nbformat": 4,
 "nbformat_minor": 5
}
