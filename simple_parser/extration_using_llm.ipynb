{
 "cells": [
  {
   "cell_type": "markdown",
   "id": "24075ba5",
   "metadata": {},
   "source": [
    "### Information extraction from documents using LLM"
   ]
  },
  {
   "cell_type": "markdown",
   "id": "7c4fcc74",
   "metadata": {},
   "source": [
    "### GroqLLM  "
   ]
  },
  {
   "cell_type": "code",
   "execution_count": 1,
   "id": "b7618e55",
   "metadata": {},
   "outputs": [],
   "source": [
    "from langchain_groq import ChatGroq\n",
    "from dotenv import load_dotenv\n",
    "import os\n",
    "load_dotenv()\n",
    "\n",
    "os.environ['GROQ_API_KEY'] = os.getenv(\"GROQ_API_KEY\")"
   ]
  },
  {
   "cell_type": "code",
   "execution_count": 2,
   "id": "1f25d983",
   "metadata": {},
   "outputs": [],
   "source": [
    "model_name = \"llama-3.1-8b-instant\"\n",
    "llm = ChatGroq(model=model_name,\n",
    "               temperature=0,\n",
    "               verbose=True\n",
    "               )"
   ]
  },
  {
   "cell_type": "code",
   "execution_count": 3,
   "id": "d5ed8410",
   "metadata": {},
   "outputs": [
    {
     "name": "stdout",
     "output_type": "stream",
     "text": [
      "The capital of India is New Delhi.\n"
     ]
    }
   ],
   "source": [
    "response = llm.invoke(\"What is the capital of india?\")\n",
    "print(response.content)"
   ]
  },
  {
   "cell_type": "markdown",
   "id": "7521654e",
   "metadata": {},
   "source": [
    "#### Extract text from documents"
   ]
  },
  {
   "cell_type": "code",
   "execution_count": 4,
   "id": "b5404cf7",
   "metadata": {},
   "outputs": [],
   "source": [
    "import pdfplumber\n",
    "\n",
    "\n",
    "def text_extractore(file_path):\n",
    "    text = \"\"\n",
    "    with pdfplumber.open(file_path) as pdf:\n",
    "        for page in pdf.pages:\n",
    "            text += page.extract_text() + \"\\n\"\n",
    "\n",
    "    return text\n",
    "\n",
    "file_path = r\"..\\documents\\KAMAL_Enterpr_ resume.pdf\"\n",
    "chunks = text_extractore(file_path=file_path)"
   ]
  },
  {
   "cell_type": "code",
   "execution_count": 5,
   "id": "eb2ebffb",
   "metadata": {},
   "outputs": [
    {
     "name": "stdout",
     "output_type": "stream",
     "text": [
      "KAMAL JIT SINGH\n",
      "Email: rajk51890@gmail.com\n",
      "Mob: +91 8830132055\n",
      "Location: Ara Nawada Chauk, Bhojpur, Bih ar har, Pin: 802301\n",
      "Objective:\n",
      "To Work in an environment which encourage me to succeed and grow professionally where I\n",
      "can utilize my skill and knowledge appropriately.\n",
      "Activity:\n",
      "Higher Education:\n",
      "All outdoor activity\n",
      "B.sc Physics(Hons)–2019 Learning new skills in my spare time\n",
      "Skills:\n",
      "Experience:\n",
      "Excel\n",
      "Functio ns: Total 3 Years of Experience\n",
      "• VLOPKU P 1. Hopscotch Pvt Ltd\n",
      "• IF 2. Jyoti Enterprise s\n",
      "COUNT 3. NoBroker\n",
      "•\n",
      "PIVAT TABLE\n",
      "•\n",
      "And many more formation functions\n",
      "Visualization Tools:\n",
      "Experience with Excel:\n",
      "• Power Bi • I am very good at Excel. I have good\n",
      "• Advance Excel knowledge about Advance formatting\n",
      "functions like SUM, SUMIF, IF, IFS,\n",
      "LOOKUP, VLOOKUP, ALL LOOKUP\n",
      "Language:\n",
      "functions and INDEX and MATCH\n",
      "function.\n",
      "Hindi, English\n",
      "• Pivot Table: This is the most important\n",
      "inbuilt function in excel for advanced\n",
      "use cases and I have good knowledge\n",
      "I am g ood at team work and curious to about it.\n",
      "learn new things an d mind set with\n",
      "I have done many projects for companies\n",
      "problem solving\n",
      "on Google sheet s for autofill system\n",
      "with locking mechanism.\n",
      "Da ta Analysis experience:\n",
      "I have done analysis on many datasets like Hr Analysis, Ipl datasets, Titanic ship and many more.I use to\n",
      "do wnload data from Kaggle and I use to processes like cleaning and transforming of the data. I create\n",
      "que stions by my own or I use to ask questions to friends related IPL then I use to find answer then I plots graphs using power Bi\n",
      "too l and create a impressive dashboard\n",
      "Declaration:\n",
      "I do here by declare that the above information is true to the best of my knowledge\n",
      "Signature:\n",
      "Kamal Jit Singh\n",
      "\n"
     ]
    }
   ],
   "source": [
    "print(chunks)"
   ]
  },
  {
   "cell_type": "markdown",
   "id": "5132bdbe",
   "metadata": {},
   "source": [
    "#### Extract skills from resume and JD"
   ]
  },
  {
   "cell_type": "code",
   "execution_count": 6,
   "id": "e81eabd8",
   "metadata": {},
   "outputs": [],
   "source": [
    "template = \"You are a expert to extract information form chunk of text.\" \\\n",
    "\"You have to extract common name of the skills from the given context.\" \\\n",
    "\"If you will get skills like: Vlookup, if, count then retun Excel or Advance Excel\" \\\n",
    "\"or if like liner regression, Random Forest the return Machine Learning\" \\\n",
    "\"Like this you have retun the common name of the skill.\"\\\n",
    "\"Don't return other text. Return only skills.\" \\\n",
    "\"Context\\n\" \\\n",
    "\"{context}\""
   ]
  },
  {
   "cell_type": "code",
   "execution_count": 7,
   "id": "7815edf7",
   "metadata": {},
   "outputs": [
    {
     "data": {
      "text/plain": [
       "\"You are a expert to extract information form chunk of text.You have to extract common name of the skills from the given context.If you will get skills like: Vlookup, if, count then retun Excel or Advance Excelor if like liner regression, Random Forest the return Machine LearningLike this you have retun the common name of the skill.Don't return other text. Return only skills.Context\\nKamal\""
      ]
     },
     "execution_count": 7,
     "metadata": {},
     "output_type": "execute_result"
    }
   ],
   "source": [
    "template.format(context=\"Kamal\")"
   ]
  },
  {
   "cell_type": "code",
   "execution_count": 8,
   "id": "a0c26a8a",
   "metadata": {},
   "outputs": [
    {
     "data": {
      "text/plain": [
       "'Excel \\nMachine Learning \\nData Analysis \\nPower Bi \\nAdvance Excel \\nGoogle Sheets \\nPivot Table \\nData Visualization \\nLanguage Skills (Hindi, English)'"
      ]
     },
     "execution_count": 8,
     "metadata": {},
     "output_type": "execute_result"
    }
   ],
   "source": [
    "response = llm.invoke(input=template.format(context=chunks))\n",
    "response.content"
   ]
  },
  {
   "cell_type": "markdown",
   "id": "ef970861",
   "metadata": {},
   "source": [
    "#### --- Step 2: Extract Skills (LLM can be used, here simple mock) ---"
   ]
  },
  {
   "cell_type": "code",
   "execution_count": 9,
   "id": "77f26987",
   "metadata": {},
   "outputs": [],
   "source": [
    "def extract_skill_from_documents(chunk: str):\n",
    "\n",
    "    \"\"\"Chunk is text from documents\"\"\"\n",
    "    template = \"\"\"\n",
    "    You are an expert in resume parsing and skill normalization. \n",
    "    Your task is to extract skills from the given text and map them to their common standardized names.\n",
    "\n",
    "    Instructions:\n",
    "    - Identify all technical and analytical skills mentioned in the context.\n",
    "    - Group related skills under a single common name. \n",
    "    Examples:\n",
    "        - If you find \"VLOOKUP, IF, COUNT, Pivot Table\" → return [\"Excel / Advanced Excel\"]\n",
    "        - If you find \"Linear Regression, Random Forest, XGBoost\" → return [\"Machine Learning\"]\n",
    "        - If you find \"Seaborn, Matplotlib, Power BI, Tableau\" → return [\"Data Visualization\"]\n",
    "        - If you find \"MySQL, PostgreSQL, SQL Server\" → return [\"SQL\"]\n",
    "    - Return only skills in a Python list format (e.g., [\"SQL\", \"Machine Learning\", \"Excel\"]).\n",
    "    - Do not include extra explanation or text.\n",
    "\n",
    "    Context:\n",
    "    {context}\n",
    "\"\"\"\n",
    "\n",
    "    prompt = template.format(context=chunk)\n",
    "    response = llm.invoke(input=prompt)\n",
    "    return response.content"
   ]
  },
  {
   "cell_type": "code",
   "execution_count": 10,
   "id": "4c294eeb",
   "metadata": {},
   "outputs": [
    {
     "name": "stdout",
     "output_type": "stream",
     "text": [
      "{'English', 'Data Analysis', 'Machine Learning', 'Team Work', 'Excel / Advanced Excel', 'Data Visualization', 'SQL', 'Hindi', 'Problem Solving'}\n"
     ]
    }
   ],
   "source": [
    "import ast\n",
    "resume_skills = extract_skill_from_documents(chunk=chunks)\n",
    "set_of_resume_skills = set(ast.literal_eval(resume_skills))\n",
    "print(set_of_resume_skills)"
   ]
  },
  {
   "cell_type": "code",
   "execution_count": 11,
   "id": "5d99cf22",
   "metadata": {},
   "outputs": [],
   "source": [
    "job_description = \"\"\"\n",
    "Job Description:\n",
    "We are seeking a Data Analyst to join our analytics team. The candidate will be responsible for collecting, cleaning, analyzing, and interpreting large datasets to provide insights that support business decision-making.\n",
    "Key Responsibilities:\n",
    "Collect, process, and analyze structured and unstructured data.\n",
    "Build dashboards and reports using Power BI or Tableau.\n",
    "Write SQL queries to extract data from relational databases.\n",
    "Apply statistical methods to identify trends and patterns.\n",
    "Work with cross-functional teams to provide actionable insights.\n",
    "Present findings in a clear and concise manner to stakeholders.\n",
    "Required Skills & Qualifications:\n",
    "Bachelor’s degree in Statistics, Mathematics, Computer Science, Economics, or related field.\n",
    "Strong knowledge of SQL, Python, Excel.\n",
    "Hands-on experience with Power BI / Tableau.\n",
    "Knowledge of statistical analysis, regression, hypothesis testing.\n",
    "Strong communication and problem-solving skills.\n",
    "Preferred Skills:\n",
    "Experience with Big Data tools (Spark, Hadoop).\n",
    "Familiarity with machine learning basics.\n",
    "Exposure to cloud platforms (AWS, GCP, Azure).\n",
    "\"\"\""
   ]
  },
  {
   "cell_type": "code",
   "execution_count": 12,
   "id": "105e1066",
   "metadata": {},
   "outputs": [
    {
     "name": "stdout",
     "output_type": "stream",
     "text": [
      "{'Machine Learning', 'Cloud Computing', 'Data Visualization', 'Excel', 'Big Data', 'Python', 'SQL'}\n"
     ]
    }
   ],
   "source": [
    "import ast\n",
    "jd_skills = extract_skill_from_documents(chunk=job_description)\n",
    "set_of_jd_skills = set(ast.literal_eval(jd_skills))\n",
    "print(set_of_jd_skills)"
   ]
  },
  {
   "cell_type": "markdown",
   "id": "13516837",
   "metadata": {},
   "source": [
    "#### --- Step 3: Skill Match Score ---"
   ]
  },
  {
   "cell_type": "code",
   "execution_count": 13,
   "id": "68a55d8e",
   "metadata": {},
   "outputs": [
    {
     "data": {
      "text/plain": [
       "{'Data Visualization', 'Machine Learning', 'SQL'}"
      ]
     },
     "execution_count": 13,
     "metadata": {},
     "output_type": "execute_result"
    }
   ],
   "source": [
    "common_skills = set_of_resume_skills.intersection(set_of_jd_skills)\n",
    "common_skills"
   ]
  },
  {
   "cell_type": "code",
   "execution_count": 14,
   "id": "402a9553",
   "metadata": {},
   "outputs": [
    {
     "name": "stdout",
     "output_type": "stream",
     "text": [
      "Matching skills score with Resume and JD: 42.86 %\n"
     ]
    }
   ],
   "source": [
    "skill_score = len(common_skills) / len(set_of_jd_skills) * 100\n",
    "print(F\"Matching skills score with Resume and JD: {skill_score:.2f} %\")"
   ]
  },
  {
   "cell_type": "markdown",
   "id": "0ae0af3b",
   "metadata": {},
   "source": [
    "#### # --- Step 4: Semantic Similarity (JD vs Resume) ---"
   ]
  },
  {
   "cell_type": "code",
   "execution_count": 15,
   "id": "e8154fdf",
   "metadata": {},
   "outputs": [
    {
     "name": "stderr",
     "output_type": "stream",
     "text": [
      "c:\\Users\\Admin\\Desktop\\all repo\\Resume-parser-LLM\\.venv\\Lib\\site-packages\\tqdm\\auto.py:21: TqdmWarning: IProgress not found. Please update jupyter and ipywidgets. See https://ipywidgets.readthedocs.io/en/stable/user_install.html\n",
      "  from .autonotebook import tqdm as notebook_tqdm\n"
     ]
    }
   ],
   "source": [
    "import json\n",
    "from sentence_transformers import SentenceTransformer, util"
   ]
  },
  {
   "cell_type": "code",
   "execution_count": 16,
   "id": "3861eb8e",
   "metadata": {},
   "outputs": [],
   "source": [
    "model = SentenceTransformer(model_name_or_path=\"all-MiniLM-L6-v2\")"
   ]
  },
  {
   "cell_type": "code",
   "execution_count": 20,
   "id": "20bf874c",
   "metadata": {},
   "outputs": [],
   "source": [
    "jd_embedding = model.encode(job_description, convert_to_tensor=True)\n",
    "resume_embedding = model.encode(chunks, convert_to_tensor=True)"
   ]
  },
  {
   "cell_type": "code",
   "execution_count": 31,
   "id": "a156c4ce",
   "metadata": {},
   "outputs": [],
   "source": [
    "semantic_score = float(util.cos_sim(jd_embedding, resume_embedding)) * 100"
   ]
  },
  {
   "cell_type": "code",
   "execution_count": null,
   "id": "534de876",
   "metadata": {},
   "outputs": [
    {
     "name": "stdout",
     "output_type": "stream",
     "text": [
      "Matching skills score with Resume and JD: 50.33 %\n"
     ]
    }
   ],
   "source": [
    "print(F\"Matching skills score with Resume and JD: {semantic_score:.2f} %\")"
   ]
  },
  {
   "cell_type": "markdown",
   "id": "452ce71c",
   "metadata": {},
   "source": [
    "#### --- Step 5: Final Weighted Score ---"
   ]
  },
  {
   "cell_type": "code",
   "execution_count": 32,
   "id": "b9c2e244",
   "metadata": {},
   "outputs": [
    {
     "name": "stdout",
     "output_type": "stream",
     "text": [
      "Final score for matching skills with Resume and JD: 45.10 %\n"
     ]
    }
   ],
   "source": [
    "final_weighted_score = 0.7 * skill_score + 0.3 * semantic_score\n",
    "print(F\"Final score for matching skills with Resume and JD: {final_weighted_score:.2f} %\")"
   ]
  },
  {
   "cell_type": "code",
   "execution_count": 33,
   "id": "35b1a26d",
   "metadata": {},
   "outputs": [
    {
     "name": "stdout",
     "output_type": "stream",
     "text": [
      "Skill Score: 42.86 %\n",
      "Semantic Score: 50.33 %\n",
      "Final Match Score: 45.1 %\n"
     ]
    }
   ],
   "source": [
    "print(\"Skill Score:\", round(skill_score,2), \"%\")\n",
    "print(\"Semantic Score:\", round(semantic_score,2), \"%\")\n",
    "print(\"Final Match Score:\", round(final_weighted_score,2), \"%\")"
   ]
  }
 ],
 "metadata": {
  "kernelspec": {
   "display_name": ".venv",
   "language": "python",
   "name": "python3"
  },
  "language_info": {
   "codemirror_mode": {
    "name": "ipython",
    "version": 3
   },
   "file_extension": ".py",
   "mimetype": "text/x-python",
   "name": "python",
   "nbconvert_exporter": "python",
   "pygments_lexer": "ipython3",
   "version": "3.13.5"
  }
 },
 "nbformat": 4,
 "nbformat_minor": 5
}
