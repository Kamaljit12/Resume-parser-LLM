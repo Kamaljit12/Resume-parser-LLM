{
 "cells": [
  {
   "cell_type": "code",
   "execution_count": 4,
   "id": "376b0ead",
   "metadata": {},
   "outputs": [],
   "source": [
    "resume_template = \"Extract the following from this resume: Name, Email, Skills, Education, Work Experience. Return JSON only.\""
   ]
  },
  {
   "cell_type": "code",
   "execution_count": 3,
   "id": "ab5bba4b",
   "metadata": {},
   "outputs": [],
   "source": [
    "jd_template = \"Extract required skills, education, and experience from this Job Description. Return JSON only.\""
   ]
  },
  {
   "cell_type": "code",
   "execution_count": null,
   "id": "d7af34c3",
   "metadata": {},
   "outputs": [],
   "source": []
  },
  {
   "cell_type": "code",
   "execution_count": null,
   "id": "6ae8aea5",
   "metadata": {},
   "outputs": [],
   "source": []
  },
  {
   "cell_type": "code",
   "execution_count": null,
   "id": "e0d51e26",
   "metadata": {},
   "outputs": [],
   "source": []
  },
  {
   "cell_type": "code",
   "execution_count": null,
   "id": "ff2a68fb",
   "metadata": {},
   "outputs": [],
   "source": []
  }
 ],
 "metadata": {
  "kernelspec": {
   "display_name": ".venv",
   "language": "python",
   "name": "python3"
  },
  "language_info": {
   "codemirror_mode": {
    "name": "ipython",
    "version": 3
   },
   "file_extension": ".py",
   "mimetype": "text/x-python",
   "name": "python",
   "nbconvert_exporter": "python",
   "pygments_lexer": "ipython3",
   "version": "3.13.5"
  }
 },
 "nbformat": 4,
 "nbformat_minor": 5
}
